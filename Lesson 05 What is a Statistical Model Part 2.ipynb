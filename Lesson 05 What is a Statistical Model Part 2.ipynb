{
 "cells": [
  {
   "cell_type": "markdown",
   "id": "3915f21c-dde7-4979-b055-6e9cba2e81ab",
   "metadata": {},
   "source": [
    "**SM339 &#x25aa; Applied Statistics &#x25aa; Spring 2023 &#x25aa; Uhan**"
   ]
  },
  {
   "cell_type": "markdown",
   "id": "b738654b-4270-40e1-b8b9-498f1b27ca08",
   "metadata": {},
   "source": [
    "# Lesson 5. What is a Statistical Model? &mdash; Part 2"
   ]
  },
  {
   "cell_type": "markdown",
   "id": "8a831dc8-0325-4e0b-8805-62682024a35a",
   "metadata": {},
   "source": [
    "## Setup"
   ]
  },
  {
   "cell_type": "markdown",
   "id": "13619981-f640-4846-a3b4-a773fb7b2b78",
   "metadata": {},
   "source": [
    "* First, some setup code: the code below will make our plots a reasonable size. "
   ]
  },
  {
   "cell_type": "code",
   "execution_count": null,
   "id": "dfd0a43c-e85f-4c6d-ba25-224bbf7bf77b",
   "metadata": {},
   "outputs": [],
   "source": [
    "options(repr.plot.width = 6, repr.plot.height = 6)"
   ]
  },
  {
   "cell_type": "markdown",
   "id": "cfc90d09-47ac-4737-9ce6-6a2ea7e5ee64",
   "metadata": {
    "tags": []
   },
   "source": [
    "## Four-Step Process &mdash; overview and demonstration"
   ]
  },
  {
   "cell_type": "markdown",
   "id": "0be0ffa1-6634-4c3f-99f6-9f05afceeed5",
   "metadata": {},
   "source": [
    "* For this example, we will use `cars`, a data frame that is built into R.\n",
    "\n",
    "* This data gives the speed of cars and the distances taken to stop. This data was recorded in the 1920s.\n",
    "\n",
    "* Let's start by inspecting the first few rows of `cars`:"
   ]
  },
  {
   "cell_type": "code",
   "execution_count": null,
   "id": "e6666d70-36a7-4563-a789-50772bc182d6",
   "metadata": {},
   "outputs": [],
   "source": [
    "head(cars)"
   ]
  },
  {
   "cell_type": "markdown",
   "id": "66209112-0ed7-479d-82c1-abf896156a2e",
   "metadata": {},
   "source": [
    "* As we can see, this data frame has two columns:\n",
    "\n",
    "| Column | Description |\n",
    "| :- | :- | \n",
    "| `speed` | Speed (mph) |\n",
    "| `dist` | Stopping distance (ft) |"
   ]
  },
  {
   "cell_type": "markdown",
   "id": "a8906de5-0dac-4084-9c88-d7f28fe67caf",
   "metadata": {},
   "source": [
    "* __Suppose we want to use the speed of a car to predict the distance it takes the car to stop.__"
   ]
  },
  {
   "cell_type": "markdown",
   "id": "f06ce37c-35a8-4736-8989-1a8e1c3a8622",
   "metadata": {},
   "source": [
    "### 1. Choose a form for the model."
   ]
  },
  {
   "cell_type": "markdown",
   "id": "d81e6971-8d00-4eef-a5d1-538c4c3afe90",
   "metadata": {},
   "source": [
    "#### &bull; Identify response and explanatory variable(s) and their types."
   ]
  },
  {
   "cell_type": "markdown",
   "id": "59dd5d6b-5ad6-422a-96d9-d3ed37a7a346",
   "metadata": {},
   "source": [
    "*Write your notes here. Double-click to edit.*"
   ]
  },
  {
   "cell_type": "markdown",
   "id": "9b9281da-4fe2-4cd9-99c7-32b58c3c88c0",
   "metadata": {},
   "source": [
    "#### &bull; (Typically) use graphical summaries to guide our choice of model."
   ]
  },
  {
   "cell_type": "markdown",
   "id": "f5f40fb4-9b43-4d2d-9d9d-ac5def9de5ee",
   "metadata": {},
   "source": [
    "* For this example, let's plot `dist` vs `speed`:"
   ]
  },
  {
   "cell_type": "code",
   "execution_count": null,
   "id": "9e9ed4ef-f491-4bf3-a34a-3b202aa786dc",
   "metadata": {},
   "outputs": [],
   "source": []
  },
  {
   "cell_type": "markdown",
   "id": "796fc093-67af-481c-99b0-26e6215bd92f",
   "metadata": {},
   "source": [
    "* It looks like there is an approximately linear relationship between `dist` and `speed` \n",
    "\n",
    "* So, let's try to fit a linear function to the data."
   ]
  },
  {
   "cell_type": "markdown",
   "id": "c392717e-7098-4ecf-9424-40fd87004a9d",
   "metadata": {},
   "source": [
    "### 2. Fit the model to the data."
   ]
  },
  {
   "cell_type": "markdown",
   "id": "851616e4-4b35-4eef-bf70-e8a59ad16cda",
   "metadata": {},
   "source": [
    "#### &bull; Estimate the model parameters using R."
   ]
  },
  {
   "cell_type": "code",
   "execution_count": null,
   "id": "6d3cdf18-5a8e-45c0-abff-924413c6d2c9",
   "metadata": {},
   "outputs": [],
   "source": [
    "fit <- lm(dist ~ speed, data = cars)\n",
    "fit"
   ]
  },
  {
   "cell_type": "code",
   "execution_count": null,
   "id": "b4e1ca6b-145b-43ab-b7a7-82a1dcdd5437",
   "metadata": {},
   "outputs": [],
   "source": [
    "plot(cars$speed, cars$dist)\n",
    "abline(fit)"
   ]
  },
  {
   "cell_type": "markdown",
   "id": "4bdde51e-94e4-4c90-ba2a-2baa9a3315c9",
   "metadata": {},
   "source": [
    "### 3. Assess how well the model describes the data."
   ]
  },
  {
   "cell_type": "markdown",
   "id": "c3e8be6c-bd18-4709-8204-19d7be14d20c",
   "metadata": {},
   "source": [
    "#### &bull; Analyze the residuals.\n",
    "\n",
    "<img src=\"img/residual.jpg\" width=\"30%\">"
   ]
  },
  {
   "cell_type": "markdown",
   "id": "163c2ee5-40b8-4da2-b735-91b44c2479be",
   "metadata": {},
   "source": [
    "### 4. Use the model to address the question that motivated collecting the data in the first place."
   ]
  },
  {
   "cell_type": "markdown",
   "id": "c92409cb-9e3b-470a-9561-6887273163e6",
   "metadata": {},
   "source": [
    "#### &bull; Predict an outcome."
   ]
  },
  {
   "cell_type": "markdown",
   "id": "49430106-24b2-4d8e-beff-0fb5d46d3143",
   "metadata": {},
   "source": [
    "* The R output above tells us that the line of best fit is\n",
    "\n",
    "$$\\widehat{\\mathit{distance}} = -17.579 + 3.932 \\,\\mathit{speed}$$"
   ]
  },
  {
   "cell_type": "markdown",
   "id": "d3826437-5f43-47f7-b70c-2b01fa884d5a",
   "metadata": {},
   "source": [
    "#### &bull; Describe a relationship."
   ]
  },
  {
   "cell_type": "markdown",
   "id": "7d8bd2c1-1cc6-48a4-96c9-efadbf3bc85a",
   "metadata": {},
   "source": [
    "*Write your notes here. Double-click to edit.*"
   ]
  },
  {
   "cell_type": "markdown",
   "id": "8c459240-dffc-490a-9be8-be929bbd1e63",
   "metadata": {},
   "source": [
    "#### &bull; Test for signficant relationships."
   ]
  }
 ],
 "metadata": {
  "kernelspec": {
   "display_name": "R",
   "language": "R",
   "name": "ir"
  },
  "language_info": {
   "codemirror_mode": "r",
   "file_extension": ".r",
   "mimetype": "text/x-r-source",
   "name": "R",
   "pygments_lexer": "r",
   "version": "4.2.2"
  }
 },
 "nbformat": 4,
 "nbformat_minor": 5
}
